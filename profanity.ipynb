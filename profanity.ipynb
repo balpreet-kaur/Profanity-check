import urllib.request
import urllib.parse

def read_text():
    quotes=open("profanitycheck.txt")
    contents_inside_file=quotes.read()
    quotes.close()
    profanity_check(contents_inside_file)

def profanity_check(text_to_examine):
    encoded_text=urllib.parse.quote(text_to_examine,'utf-8')
    connection = urllib.request.urlopen("https://www.purgomalum.com/service/containsprofanity?text="+encoded_text)
    output=connection.read().decode('utf-8')
    print(output)
    connection.close()
    if output:
        if "true" in output:
            print("Profanity Alert!")
        elif "false" in output:
            print("No Bad Words Found!")
        else:
            print("Problem while examining..")
read_text()
